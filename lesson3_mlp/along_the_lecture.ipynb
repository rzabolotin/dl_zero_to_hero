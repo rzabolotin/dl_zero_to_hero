{
 "cells": [
  {
   "cell_type": "code",
   "execution_count": 4,
   "id": "8770ea7f-c5d8-46fe-aa1f-57eae9bc34b6",
   "metadata": {},
   "outputs": [],
   "source": [
    "import torch\n",
    "import torch.nn.functional as F"
   ]
  },
  {
   "cell_type": "markdown",
   "id": "3018e8a2-9ea2-4eab-8c10-02837283f847",
   "metadata": {},
   "source": [
    "# Готовим данные"
   ]
  },
  {
   "cell_type": "code",
   "execution_count": 2,
   "id": "033f45a4-ab0a-49d6-b641-3fa630ebba02",
   "metadata": {},
   "outputs": [],
   "source": [
    "with open(\"../female-names.txt\", \"r\") as f_in:\n",
    "    female_names = f_in.readlines()\n",
    "\n",
    "with open(\"../male-names.txt\", \"r\") as f_in:\n",
    "    male_names = f_in.readlines()\n",
    "\n",
    "female_names = [x.lower().strip() for x in female_names]\n",
    "male_names = [x.lower().strip() for x in male_names]\n",
    "male_names.extend(female_names)"
   ]
  },
  {
   "cell_type": "code",
   "execution_count": 3,
   "id": "4e122575-14d6-4e46-9807-bb213c970a15",
   "metadata": {},
   "outputs": [
    {
     "data": {
      "text/plain": [
       "['аарон',\n",
       " 'аба',\n",
       " 'аббас',\n",
       " 'абд аль-узза',\n",
       " 'абдуллах',\n",
       " 'абид',\n",
       " 'аботур',\n",
       " 'аввакум',\n",
       " 'август',\n",
       " 'авдей']"
      ]
     },
     "execution_count": 3,
     "metadata": {},
     "output_type": "execute_result"
    }
   ],
   "source": [
    "male_names[:10]"
   ]
  },
  {
   "cell_type": "code",
   "execution_count": null,
   "id": "3fa549ea-977b-4513-bc00-b9540711e66b",
   "metadata": {},
   "outputs": [],
   "source": []
  }
 ],
 "metadata": {
  "kernelspec": {
   "display_name": "Python 3 (ipykernel)",
   "language": "python",
   "name": "python3"
  },
  "language_info": {
   "codemirror_mode": {
    "name": "ipython",
    "version": 3
   },
   "file_extension": ".py",
   "mimetype": "text/x-python",
   "name": "python",
   "nbconvert_exporter": "python",
   "pygments_lexer": "ipython3",
   "version": "3.12.5"
  }
 },
 "nbformat": 4,
 "nbformat_minor": 5
}
