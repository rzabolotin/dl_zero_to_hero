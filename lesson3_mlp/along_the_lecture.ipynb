{
 "cells": [
  {
   "cell_type": "code",
   "execution_count": 12,
   "id": "8770ea7f-c5d8-46fe-aa1f-57eae9bc34b6",
   "metadata": {},
   "outputs": [],
   "source": [
    "import torch\n",
    "import torch.nn.functional as F\n",
    "import matplotlib.pyplot as plt # for making figures\n",
    "%matplotlib inline\n",
    "import numpy as np"
   ]
  },
  {
   "cell_type": "markdown",
   "id": "3018e8a2-9ea2-4eab-8c10-02837283f847",
   "metadata": {},
   "source": [
    "# Готовим данные"
   ]
  },
  {
   "cell_type": "code",
   "execution_count": 13,
   "id": "033f45a4-ab0a-49d6-b641-3fa630ebba02",
   "metadata": {},
   "outputs": [],
   "source": [
    "with open(\"../female-names.txt\", \"r\") as f_in:\n",
    "    female_names = f_in.readlines()\n",
    "\n",
    "with open(\"../male-names.txt\", \"r\") as f_in:\n",
    "    male_names = f_in.readlines()\n",
    "\n",
    "female_names = [x.lower().strip() for x in female_names]\n",
    "male_names = [x.lower().strip() for x in male_names]\n",
    "male_names.extend(female_names)"
   ]
  },
  {
   "cell_type": "code",
   "execution_count": 14,
   "id": "4e122575-14d6-4e46-9807-bb213c970a15",
   "metadata": {},
   "outputs": [
    {
     "data": {
      "text/plain": [
       "['аарон',\n",
       " 'аба',\n",
       " 'аббас',\n",
       " 'абд аль-узза',\n",
       " 'абдуллах',\n",
       " 'абид',\n",
       " 'аботур',\n",
       " 'аввакум',\n",
       " 'август',\n",
       " 'авдей']"
      ]
     },
     "execution_count": 14,
     "metadata": {},
     "output_type": "execute_result"
    }
   ],
   "source": [
    "male_names[:10]"
   ]
  },
  {
   "cell_type": "code",
   "execution_count": 15,
   "id": "a00563dc-2389-48a1-90b0-27a50bfd9714",
   "metadata": {},
   "outputs": [],
   "source": [
    "names = [x + \".\" for x in male_names]"
   ]
  },
  {
   "cell_type": "markdown",
   "id": "f3e9c3a6-9598-465c-b432-eb1912a6b05a",
   "metadata": {},
   "source": [
    "# Словарь и токенайзер"
   ]
  },
  {
   "cell_type": "code",
   "execution_count": 16,
   "id": "31635ef0-c5a1-4c88-a9c1-a36625b9e91e",
   "metadata": {},
   "outputs": [],
   "source": [
    "vocab = sorted(list(set(\"\".join(names))), key=lambda v: \"\\t\" if v == \".\" else v)\n",
    "vocab_size = len(vocab)"
   ]
  },
  {
   "cell_type": "code",
   "execution_count": 17,
   "id": "556b7446-9a45-4fc9-acba-70cf147e0639",
   "metadata": {},
   "outputs": [],
   "source": [
    "char_to_index = {char: index for index, char in enumerate(vocab)}\n",
    "index_to_char = {index: char for char, index in char_to_index.items()}\n",
    "\n",
    "def tokenize(char):\n",
    "    return char_to_index.get(char, 0) \n",
    "\n",
    "def untokenize(index):\n",
    "    return index_to_char.get(index, \".\")"
   ]
  },
  {
   "cell_type": "code",
   "execution_count": 18,
   "id": "94b54403-add9-4fc2-9df9-c43c7a2f9197",
   "metadata": {},
   "outputs": [
    {
     "name": "stdout",
     "output_type": "stream",
     "text": [
      "Токен для буквы а 3\n",
      "Буква для токена 13 = к\n"
     ]
    }
   ],
   "source": [
    "print(f\"Токен для буквы а {tokenize(\"а\")}\")\n",
    "print(f\"Буква для токена 13 = {untokenize(13)}\")"
   ]
  },
  {
   "cell_type": "markdown",
   "id": "6913c237-b24e-4cc3-84dd-387a72a033fb",
   "metadata": {},
   "source": [
    "# Готовим данные для обучения"
   ]
  },
  {
   "cell_type": "code",
   "execution_count": 19,
   "id": "72655695-5829-4fc6-870f-177eb2993adb",
   "metadata": {},
   "outputs": [
    {
     "data": {
      "text/plain": [
       "['аарон.', 'аба.', 'аббас.']"
      ]
     },
     "execution_count": 19,
     "metadata": {},
     "output_type": "execute_result"
    }
   ],
   "source": [
    "names[:3]"
   ]
  },
  {
   "cell_type": "code",
   "execution_count": 20,
   "id": "ceef8353-87cd-41ff-8dfc-db788869789c",
   "metadata": {},
   "outputs": [
    {
     "name": "stdout",
     "output_type": "stream",
     "text": [
      "... -> а\n",
      "..а -> а\n",
      ".аа -> р\n",
      "аар -> о\n",
      "аро -> н\n",
      "рон -> .\n",
      "... -> а\n",
      "..а -> б\n",
      ".аб -> а\n",
      "аба -> .\n",
      "... -> а\n",
      "..а -> б\n",
      ".аб -> б\n",
      "абб -> а\n",
      "бба -> с\n",
      "бас -> .\n"
     ]
    }
   ],
   "source": [
    "X,Y = [], []\n",
    "for n in names[:3]:\n",
    "    x = \"...\"\n",
    "    for i in range(len(n)):\n",
    "        y = n[i]\n",
    "        print(f\"{x} -> {y}\")\n",
    "        X.append([tokenize(xi) for xi in x])\n",
    "        Y.append(tokenize(y))\n",
    "        x = (x + y)[1:]"
   ]
  },
  {
   "cell_type": "code",
   "execution_count": 21,
   "id": "ec14cac9-e4f9-4014-88d3-e9e8150acc4a",
   "metadata": {},
   "outputs": [
    {
     "name": "stdout",
     "output_type": "stream",
     "text": [
      "[[0, 0, 0], [0, 0, 3], [0, 3, 3], [3, 3, 19], [3, 19, 17], [19, 17, 16], [0, 0, 0], [0, 0, 3], [0, 3, 4], [3, 4, 3], [0, 0, 0], [0, 0, 3], [0, 3, 4], [3, 4, 4], [4, 4, 3], [4, 3, 20]]\n",
      "[3, 3, 19, 17, 16, 0, 3, 4, 3, 0, 3, 4, 4, 3, 20, 0]\n"
     ]
    }
   ],
   "source": [
    "print(X)\n",
    "print(Y)"
   ]
  },
  {
   "cell_type": "code",
   "execution_count": 22,
   "id": "1d88178a-6ed8-43fb-9903-cce530b284f5",
   "metadata": {},
   "outputs": [],
   "source": [
    "def build_dataset(words):\n",
    "    X,Y = [], []\n",
    "    for n in words:\n",
    "        x = \"...\"\n",
    "        for i in range(len(n)):\n",
    "            y = n[i]\n",
    "            #print(f\"{x} -> {y}\")\n",
    "            X.append([tokenize(xi) for xi in x])\n",
    "            Y.append(tokenize(y))\n",
    "            x = (x + y)[1:]\n",
    "    return [torch.tensor(j) for j in (X,Y)]\n",
    "    "
   ]
  },
  {
   "cell_type": "markdown",
   "id": "463c7aa4-4ae8-4800-b08d-07116b91dc75",
   "metadata": {},
   "source": [
    "### Разобъем на train/dev/test"
   ]
  },
  {
   "cell_type": "code",
   "execution_count": 23,
   "id": "3bcea6d0-bbf1-495a-b516-805a9030aa10",
   "metadata": {},
   "outputs": [],
   "source": [
    "import random\n",
    "random.seed(42)\n",
    "random.shuffle(names)\n",
    "n1 = int(0.8*len(names))\n",
    "n2 = int(0.9*len(names))\n",
    "\n",
    "Xtr, Ytr = build_dataset(names[:n1])\n",
    "Xdev, Ydev = build_dataset(names[n1:n2])\n",
    "Xte, Yte = build_dataset(names[n2:])\n"
   ]
  },
  {
   "cell_type": "markdown",
   "id": "99e4d837-7290-49f1-b23e-1db7e0959b07",
   "metadata": {},
   "source": [
    "# Модель в матрицах"
   ]
  },
  {
   "cell_type": "markdown",
   "id": "06984c2d-52e4-4190-871e-2061addbaa46",
   "metadata": {},
   "source": [
    "## Определение модели"
   ]
  },
  {
   "cell_type": "code",
   "execution_count": 109,
   "id": "74b1279d-c56b-49b9-aac6-b50be0e26e68",
   "metadata": {},
   "outputs": [],
   "source": [
    "emb_d = 10\n",
    "n_tokens = 3\n",
    "inner_d = 100\n",
    "C = torch.randn([vocab_size, emb_d])\n",
    "W1 = torch.randn([n_tokens * emb_d, inner_d])\n",
    "B1 = torch.rand(inner_d)\n",
    "W2 = torch.randn([inner_d, vocab_size])\n",
    "B2 = torch.randn(vocab_size)"
   ]
  },
  {
   "cell_type": "code",
   "execution_count": 110,
   "id": "6577e33c-5d98-4856-89d3-49fc45f14f31",
   "metadata": {},
   "outputs": [],
   "source": [
    "parameters = [C, W1, W2, B1, B2]\n",
    "for p in parameters:\n",
    "  p.requires_grad = True"
   ]
  },
  {
   "cell_type": "code",
   "execution_count": 111,
   "id": "0afdd52d-b161-47d9-a72e-0f1c3e1baf66",
   "metadata": {},
   "outputs": [
    {
     "data": {
      "text/plain": [
       "6874"
      ]
     },
     "execution_count": 111,
     "metadata": {},
     "output_type": "execute_result"
    }
   ],
   "source": [
    "sum(p.nelement() for p in parameters) # number of parameters in total"
   ]
  },
  {
   "cell_type": "markdown",
   "id": "2004d72d-4f00-43de-ab22-c2f6c8f1e74b",
   "metadata": {},
   "source": [
    "## Forward"
   ]
  },
  {
   "cell_type": "code",
   "execution_count": 112,
   "id": "c69a4ee0-0bd4-4e01-a7e5-0ffaa55fd0c7",
   "metadata": {},
   "outputs": [
    {
     "data": {
      "text/plain": [
       "tensor(77.5319, grad_fn=<NllLossBackward0>)"
      ]
     },
     "execution_count": 112,
     "metadata": {},
     "output_type": "execute_result"
    }
   ],
   "source": [
    "Xemb = F.one_hot(Xtr, num_classes = vocab_size).float() @ C\n",
    "inner_layer = (Xemb.view(Xemb.shape[0], -1) @ W1 + B1).relu()\n",
    "logits = inner_layer @ W2 + B2\n",
    "loss = F.cross_entropy(logits, Ytr)\n",
    "loss"
   ]
  },
  {
   "cell_type": "markdown",
   "id": "dc2e2261-8bc7-410e-8945-100596730208",
   "metadata": {},
   "source": [
    "## Backward"
   ]
  },
  {
   "cell_type": "code",
   "execution_count": 113,
   "id": "0428853b-8cd4-4c40-a26e-66e70f073295",
   "metadata": {},
   "outputs": [],
   "source": [
    "for p in parameters:\n",
    "  p.grad = None"
   ]
  },
  {
   "cell_type": "code",
   "execution_count": 114,
   "id": "b7b2328f-a2e9-4171-9a46-6d616d596681",
   "metadata": {},
   "outputs": [],
   "source": [
    "loss.backward()"
   ]
  },
  {
   "cell_type": "code",
   "execution_count": 115,
   "id": "169fa50a-dc3d-42a1-9eb6-e418c3365dbe",
   "metadata": {},
   "outputs": [],
   "source": [
    "for p in parameters:\n",
    "  p.data -= 0.01 * p.grad"
   ]
  },
  {
   "cell_type": "markdown",
   "id": "9d7939c4-578f-47f3-af9a-e9ae3fbaef44",
   "metadata": {},
   "source": [
    "## Repeat cycle"
   ]
  },
  {
   "cell_type": "code",
   "execution_count": 117,
   "id": "c4954213-ec3a-4355-8996-fda3f86a1f97",
   "metadata": {},
   "outputs": [
    {
     "name": "stdout",
     "output_type": "stream",
     "text": [
      "0: Loss train 75.8870 loss dev 60.1255\n",
      "1000: Loss train 2.4579 loss dev 2.7352\n",
      "2000: Loss train 1.9211 loss dev 2.5794\n",
      "3000: Loss train 2.2533 loss dev 2.4737\n",
      "4000: Loss train 2.1461 loss dev 2.4595\n",
      "5000: Loss train 2.1249 loss dev 2.4418\n",
      "6000: Loss train 2.3989 loss dev 2.4419\n",
      "7000: Loss train 2.4912 loss dev 2.4195\n",
      "8000: Loss train 2.0369 loss dev 2.4153\n",
      "9000: Loss train 2.2181 loss dev 2.4181\n",
      "10000: Loss train 2.9090 loss dev 2.4100\n",
      "11000: Loss train 2.2959 loss dev 2.4137\n",
      "12000: Loss train 2.0285 loss dev 2.4147\n",
      "13000: Loss train 2.0350 loss dev 2.3956\n",
      "14000: Loss train 2.0419 loss dev 2.4018\n",
      "15000: Loss train 2.2805 loss dev 2.4309\n",
      "16000: Loss train 1.8481 loss dev 2.4383\n",
      "17000: Loss train 1.9066 loss dev 2.4071\n",
      "18000: Loss train 1.8794 loss dev 2.4068\n",
      "19000: Loss train 1.6984 loss dev 2.4384\n",
      "20000: Loss train 2.0357 loss dev 2.4199\n",
      "21000: Loss train 2.2693 loss dev 2.4270\n",
      "22000: Loss train 1.7094 loss dev 2.4577\n",
      "23000: Loss train 2.0874 loss dev 2.4307\n",
      "24000: Loss train 2.2016 loss dev 2.4203\n",
      "25000: Loss train 2.0434 loss dev 2.4533\n",
      "26000: Loss train 1.8995 loss dev 2.4183\n",
      "27000: Loss train 2.2145 loss dev 2.4532\n",
      "28000: Loss train 2.5069 loss dev 2.4584\n",
      "29000: Loss train 2.2509 loss dev 2.4619\n",
      "30000: Loss train 2.2236 loss dev 2.4704\n",
      "31000: Loss train 2.2256 loss dev 2.4649\n",
      "32000: Loss train 2.2164 loss dev 2.4665\n",
      "33000: Loss train 2.1535 loss dev 2.4523\n",
      "34000: Loss train 2.2491 loss dev 2.4916\n",
      "35000: Loss train 2.3012 loss dev 2.4792\n",
      "36000: Loss train 2.1164 loss dev 2.4791\n",
      "37000: Loss train 1.9482 loss dev 2.4802\n",
      "38000: Loss train 1.4822 loss dev 2.4892\n",
      "39000: Loss train 1.9304 loss dev 2.4759\n",
      "40000: Loss train 1.6765 loss dev 2.5213\n",
      "41000: Loss train 1.9837 loss dev 2.5224\n",
      "42000: Loss train 2.4770 loss dev 2.5038\n",
      "43000: Loss train 2.0167 loss dev 2.4703\n",
      "44000: Loss train 1.8054 loss dev 2.5044\n",
      "45000: Loss train 2.0298 loss dev 2.5203\n",
      "46000: Loss train 2.1670 loss dev 2.5085\n",
      "47000: Loss train 1.7855 loss dev 2.5348\n",
      "48000: Loss train 1.9830 loss dev 2.5485\n",
      "49000: Loss train 1.6175 loss dev 2.5409\n",
      "50000: Loss train 2.6786 loss dev 2.5355\n",
      "51000: Loss train 1.8281 loss dev 2.4918\n",
      "52000: Loss train 1.6786 loss dev 2.4964\n",
      "53000: Loss train 2.0208 loss dev 2.5000\n",
      "54000: Loss train 1.8749 loss dev 2.4982\n",
      "55000: Loss train 1.4280 loss dev 2.5088\n",
      "56000: Loss train 1.5612 loss dev 2.4999\n",
      "57000: Loss train 2.0044 loss dev 2.5083\n",
      "58000: Loss train 1.6286 loss dev 2.5013\n",
      "59000: Loss train 2.0835 loss dev 2.5061\n",
      "60000: Loss train 1.8317 loss dev 2.5125\n",
      "61000: Loss train 1.8272 loss dev 2.5122\n",
      "62000: Loss train 1.8898 loss dev 2.5084\n",
      "63000: Loss train 1.8764 loss dev 2.5148\n",
      "64000: Loss train 1.8801 loss dev 2.5122\n",
      "65000: Loss train 1.6308 loss dev 2.5076\n",
      "66000: Loss train 1.9209 loss dev 2.5105\n",
      "67000: Loss train 2.0574 loss dev 2.5134\n",
      "68000: Loss train 2.4472 loss dev 2.5191\n",
      "69000: Loss train 1.5904 loss dev 2.5103\n",
      "70000: Loss train 1.7712 loss dev 2.5170\n",
      "71000: Loss train 1.6821 loss dev 2.5170\n",
      "72000: Loss train 1.5600 loss dev 2.5148\n",
      "73000: Loss train 1.8646 loss dev 2.5148\n",
      "74000: Loss train 1.5201 loss dev 2.5146\n",
      "75000: Loss train 1.5109 loss dev 2.5114\n",
      "76000: Loss train 1.9148 loss dev 2.5119\n",
      "77000: Loss train 2.0691 loss dev 2.5141\n",
      "78000: Loss train 1.5629 loss dev 2.5152\n",
      "79000: Loss train 1.8132 loss dev 2.5136\n",
      "80000: Loss train 1.4191 loss dev 2.5199\n",
      "81000: Loss train 1.8171 loss dev 2.5215\n",
      "82000: Loss train 1.9898 loss dev 2.5240\n",
      "83000: Loss train 1.6380 loss dev 2.5379\n",
      "84000: Loss train 1.5318 loss dev 2.5243\n",
      "85000: Loss train 1.6196 loss dev 2.5207\n",
      "86000: Loss train 2.2129 loss dev 2.5288\n",
      "87000: Loss train 1.9650 loss dev 2.5288\n",
      "88000: Loss train 1.7371 loss dev 2.5350\n",
      "89000: Loss train 1.9753 loss dev 2.5242\n",
      "90000: Loss train 2.1083 loss dev 2.5343\n",
      "91000: Loss train 1.4526 loss dev 2.5327\n",
      "92000: Loss train 1.8488 loss dev 2.5328\n",
      "93000: Loss train 1.9367 loss dev 2.5336\n",
      "94000: Loss train 1.8953 loss dev 2.5217\n",
      "95000: Loss train 1.7829 loss dev 2.5280\n",
      "96000: Loss train 1.6298 loss dev 2.5269\n",
      "97000: Loss train 1.6948 loss dev 2.5321\n",
      "98000: Loss train 1.7682 loss dev 2.5250\n",
      "99000: Loss train 1.8085 loss dev 2.5378\n"
     ]
    }
   ],
   "source": [
    "ls = []\n",
    "lsdev = []\n",
    "for i in range(100000):\n",
    "    idx = torch.randint(0, Xtr.shape[0], (32,))\n",
    "    \n",
    "    Xemb = F.one_hot(Xtr[idx], num_classes = vocab_size).float() @ C\n",
    "    inner_layer = (Xemb.view(Xemb.shape[0], -1) @ W1 + B1).relu()\n",
    "    logits = inner_layer @ W2 + B2\n",
    "    loss = F.cross_entropy(logits, Ytr[idx])\n",
    "\n",
    "    for p in parameters:\n",
    "        p.grad = None\n",
    "    loss.backward()\n",
    "\n",
    "    lr = 0.1 if i < 50000 else 0.01\n",
    "    \n",
    "    for p in parameters:\n",
    "        p.data -= lr * p.grad\n",
    "\n",
    "    if i % 1000 == 0:\n",
    "\n",
    "        Xemb = F.one_hot(Xdev, num_classes = vocab_size).float() @ C\n",
    "        inner_layer = (Xemb.view(Xemb.shape[0], -1) @ W1 + B1).relu()\n",
    "        logits = inner_layer @ W2 + B2\n",
    "        lossd = F.cross_entropy(logits, Ydev)\n",
    "\n",
    "        \n",
    "        print(f\"{i}: Loss train {loss.item():.4f} loss dev {lossd.item():.4f}\")\n",
    "\n",
    "    ls.append(loss.item())\n"
   ]
  },
  {
   "cell_type": "code",
   "execution_count": 118,
   "id": "ae3c5e11-7f6a-4c0f-bf53-7f72ba6c36fc",
   "metadata": {},
   "outputs": [
    {
     "data": {
      "text/plain": [
       "[<matplotlib.lines.Line2D at 0x7f2ed89f4320>]"
      ]
     },
     "execution_count": 118,
     "metadata": {},
     "output_type": "execute_result"
    },
    {
     "data": {
      "image/png": "[encoded data removed]",
      "text/plain": [
       "<Figure size 640x480 with 1 Axes>"
      ]
     },
     "metadata": {},
     "output_type": "display_data"
    }
   ],
   "source": [
    "plt.plot(list(range(100000)), np.log(ls))"
   ]
  },
  {
   "cell_type": "markdown",
   "id": "11cfe28b-7be7-4941-bb89-fbd2841e295e",
   "metadata": {},
   "source": [
    "## Evaluate performance"
   ]
  },
  {
   "cell_type": "code",
   "execution_count": 119,
   "id": "4ed0be6e-ccb0-465d-b0a5-61056d747f90",
   "metadata": {},
   "outputs": [
    {
     "name": "stdout",
     "output_type": "stream",
     "text": [
      "Loss train: 1.8544554710388184\n"
     ]
    }
   ],
   "source": [
    "Xemb = F.one_hot(Xtr, num_classes = vocab_size).float() @ C\n",
    "inner_layer = (Xemb.view(Xemb.shape[0], -1) @ W1 + B1).relu()\n",
    "logits = inner_layer @ W2 + B2\n",
    "loss = F.cross_entropy(logits, Ytr)\n",
    "print(f\"Loss train: {loss.item()}\")"
   ]
  },
  {
   "cell_type": "code",
   "execution_count": 120,
   "id": "4886c7d9-c68d-4705-aa73-ac702fa3c31a",
   "metadata": {},
   "outputs": [
    {
     "name": "stdout",
     "output_type": "stream",
     "text": [
      "Loss dev: 2.5345535278320312\n"
     ]
    }
   ],
   "source": [
    "Xemb = F.one_hot(Xdev, num_classes = vocab_size).float() @ C\n",
    "inner_layer = (Xemb.view(Xemb.shape[0], -1) @ W1 + B1).relu()\n",
    "logits = inner_layer @ W2 + B2\n",
    "loss = F.cross_entropy(logits, Ydev)\n",
    "print(f\"Loss dev: {loss.item()}\")"
   ]
  },
  {
   "cell_type": "code",
   "execution_count": 122,
   "id": "ab5a8462-c3fb-4a0b-bf1b-bbd30c0601b4",
   "metadata": {},
   "outputs": [
    {
     "name": "stdout",
     "output_type": "stream",
     "text": [
      "Loss test: 2.4544787406921387\n"
     ]
    }
   ],
   "source": [
    "Xemb = F.one_hot(Xte, num_classes = vocab_size).float() @ C\n",
    "inner_layer = (Xemb.view(Xemb.shape[0], -1) @ W1 + B1).relu()\n",
    "logits = inner_layer @ W2 + B2\n",
    "loss = F.cross_entropy(logits, Yte)\n",
    "print(f\"Loss test: {loss.item()}\")"
   ]
  },
  {
   "cell_type": "markdown",
   "id": "cdaf294d-40dd-4f9b-9bd3-1203c7d2daf9",
   "metadata": {},
   "source": [
    "## Generation output"
   ]
  },
  {
   "cell_type": "code",
   "execution_count": 127,
   "id": "47c14ee2-e1ad-4878-be8e-4f1467ab3d4d",
   "metadata": {},
   "outputs": [
    {
     "name": "stdout",
     "output_type": "stream",
     "text": [
      "агапнела\n",
      "дора\n",
      "каксия\n",
      "нур\n",
      "корт\n",
      "нидорасия\n",
      "авгососиприна\n",
      "ало\n",
      "гольф\n",
      "джаф\n"
     ]
    }
   ],
   "source": [
    "for _ in range(10):\n",
    "    w = []\n",
    "    X = [0]*3\n",
    "    while(True):\n",
    "        Xemb = F.one_hot(torch.tensor([X]), num_classes = vocab_size).float() @ C\n",
    "        inner_layer = (Xemb.view(Xemb.shape[0], -1) @ W1 + B1).relu()\n",
    "        logits = inner_layer @ W2 + B2\n",
    "        probs = F.softmax(logits, dim=1)\n",
    "        new_token = torch.multinomial(probs, 1).item()\n",
    "        \n",
    "        X = X+[new_token]\n",
    "        X = X[1:]\n",
    "    \n",
    "        if new_token == 0:\n",
    "            break\n",
    "        \n",
    "        w.append(new_token)\n",
    "    print(\"\".join([untokenize(ww) for ww in w]))"
   ]
  },
  {
   "cell_type": "markdown",
   "id": "a1b60637-62d4-4eec-86c2-8d537995a102",
   "metadata": {},
   "source": [
    "# Попробуем переписать на pytorch (с помощью LLM)"
   ]
  },
  {
   "cell_type": "code",
   "execution_count": 24,
   "id": "989a7386-1f1d-4181-b49a-036fd9eee1de",
   "metadata": {},
   "outputs": [],
   "source": [
    "import torch\n",
    "import torch.nn as nn\n",
    "import torch.nn.functional as F\n",
    "\n",
    "class LanguageModel(nn.Module):\n",
    "    def __init__(self, vocab_size, emb_d=2, n_tokens=3, inner_d=100):\n",
    "        super().__init__()\n",
    "        self.vocab_size = vocab_size\n",
    "        self.n_tokens = n_tokens\n",
    "        \n",
    "        self.embedding = nn.Embedding(vocab_size, emb_d)\n",
    "        self.fc1 = nn.Linear(n_tokens * emb_d, inner_d)\n",
    "        self.fc2 = nn.Linear(inner_d, vocab_size)\n",
    "\n",
    "    def forward(self, x):\n",
    "        x = self.embedding(x)\n",
    "        x = x.view(x.size(0), -1)  # Flatten the embedding\n",
    "        x = F.relu(self.fc1(x))\n",
    "        x = self.fc2(x)\n",
    "        return x"
   ]
  },
  {
   "cell_type": "code",
   "execution_count": 29,
   "id": "3a2a8f11-4134-4995-a10c-c71d7b18fec8",
   "metadata": {},
   "outputs": [],
   "source": [
    "model = LanguageModel(vocab_size, emb_d=10, inner_d=100)"
   ]
  },
  {
   "cell_type": "code",
   "execution_count": 30,
   "id": "3210d221-46f6-4eb1-af56-a2a017287b70",
   "metadata": {},
   "outputs": [
    {
     "name": "stdout",
     "output_type": "stream",
     "text": [
      "Iteration 1000, Train Loss: 2.2100, Dev Loss: 2.3506\n",
      "Iteration 2000, Train Loss: 1.5563, Dev Loss: 2.3828\n",
      "Iteration 3000, Train Loss: 1.9790, Dev Loss: 2.4381\n",
      "Iteration 4000, Train Loss: 1.7494, Dev Loss: 2.4578\n",
      "Iteration 5000, Train Loss: 1.5965, Dev Loss: 2.5046\n",
      "Iteration 6000, Train Loss: 1.7028, Dev Loss: 2.5477\n",
      "Iteration 7000, Train Loss: 1.5224, Dev Loss: 2.6416\n",
      "Iteration 8000, Train Loss: 1.9424, Dev Loss: 2.6663\n",
      "Iteration 9000, Train Loss: 1.5371, Dev Loss: 2.6647\n",
      "Iteration 10000, Train Loss: 1.7117, Dev Loss: 2.6548\n",
      "Iteration 11000, Train Loss: 1.4958, Dev Loss: 2.6782\n",
      "Iteration 12000, Train Loss: 2.2342, Dev Loss: 2.7517\n",
      "Iteration 13000, Train Loss: 1.9900, Dev Loss: 2.7619\n",
      "Iteration 14000, Train Loss: 1.9312, Dev Loss: 2.7911\n",
      "Iteration 15000, Train Loss: 1.5894, Dev Loss: 2.8313\n",
      "Iteration 16000, Train Loss: 2.1377, Dev Loss: 2.8390\n",
      "Iteration 17000, Train Loss: 1.8777, Dev Loss: 2.9091\n",
      "Iteration 18000, Train Loss: 1.5973, Dev Loss: 2.8588\n",
      "Iteration 19000, Train Loss: 1.7580, Dev Loss: 2.9350\n",
      "Iteration 20000, Train Loss: 1.3156, Dev Loss: 2.9499\n",
      "Iteration 21000, Train Loss: 1.4491, Dev Loss: 3.0185\n",
      "Iteration 22000, Train Loss: 1.7308, Dev Loss: 3.0175\n",
      "Iteration 23000, Train Loss: 1.6164, Dev Loss: 3.0492\n",
      "Iteration 24000, Train Loss: 1.4881, Dev Loss: 3.0450\n",
      "Iteration 25000, Train Loss: 1.5643, Dev Loss: 3.1254\n",
      "Iteration 26000, Train Loss: 1.9439, Dev Loss: 3.1707\n",
      "Iteration 27000, Train Loss: 1.5830, Dev Loss: 3.2283\n",
      "Iteration 28000, Train Loss: 1.3527, Dev Loss: 3.1721\n",
      "Iteration 29000, Train Loss: 1.7712, Dev Loss: 3.1600\n",
      "Iteration 30000, Train Loss: 1.6430, Dev Loss: 3.2499\n",
      "Iteration 31000, Train Loss: 1.4763, Dev Loss: 3.2205\n",
      "Iteration 32000, Train Loss: 1.4816, Dev Loss: 3.2115\n",
      "Iteration 33000, Train Loss: 1.9991, Dev Loss: 3.1833\n",
      "Iteration 34000, Train Loss: 1.7756, Dev Loss: 3.2326\n",
      "Iteration 35000, Train Loss: 1.9204, Dev Loss: 3.2665\n",
      "Iteration 36000, Train Loss: 1.6430, Dev Loss: 3.3198\n",
      "Iteration 37000, Train Loss: 2.1087, Dev Loss: 3.3154\n",
      "Iteration 38000, Train Loss: 1.6826, Dev Loss: 3.3782\n",
      "Iteration 39000, Train Loss: 1.5690, Dev Loss: 3.2239\n",
      "Iteration 40000, Train Loss: 1.9027, Dev Loss: 3.5407\n",
      "Iteration 41000, Train Loss: 1.7751, Dev Loss: 3.4708\n",
      "Iteration 42000, Train Loss: 1.4664, Dev Loss: 3.3721\n",
      "Iteration 43000, Train Loss: 1.7715, Dev Loss: 3.5181\n",
      "Iteration 44000, Train Loss: 1.6554, Dev Loss: 3.5470\n",
      "Iteration 45000, Train Loss: 1.5670, Dev Loss: 3.5032\n",
      "Iteration 46000, Train Loss: 1.6462, Dev Loss: 3.5483\n",
      "Iteration 47000, Train Loss: 1.5539, Dev Loss: 3.5870\n",
      "Iteration 48000, Train Loss: 1.7316, Dev Loss: 3.6568\n",
      "Iteration 49000, Train Loss: 1.7157, Dev Loss: 3.5410\n",
      "Iteration 50000, Train Loss: 2.0889, Dev Loss: 3.5324\n",
      "Iteration 51000, Train Loss: 1.8595, Dev Loss: 3.5333\n",
      "Iteration 52000, Train Loss: 1.5163, Dev Loss: 3.6334\n",
      "Iteration 53000, Train Loss: 1.6972, Dev Loss: 3.6127\n",
      "Iteration 54000, Train Loss: 1.6045, Dev Loss: 3.7166\n",
      "Iteration 55000, Train Loss: 1.5208, Dev Loss: 3.7148\n",
      "Iteration 56000, Train Loss: 1.8123, Dev Loss: 3.7914\n",
      "Iteration 57000, Train Loss: 1.5707, Dev Loss: 3.5703\n",
      "Iteration 58000, Train Loss: 1.5983, Dev Loss: 3.8896\n",
      "Iteration 59000, Train Loss: 1.8037, Dev Loss: 3.7973\n",
      "Iteration 60000, Train Loss: 1.9142, Dev Loss: 3.7842\n",
      "Iteration 61000, Train Loss: 1.8141, Dev Loss: 3.8620\n",
      "Iteration 62000, Train Loss: 1.9926, Dev Loss: 3.6726\n",
      "Iteration 63000, Train Loss: 1.7192, Dev Loss: 3.5749\n",
      "Iteration 64000, Train Loss: 1.7844, Dev Loss: 3.9746\n",
      "Iteration 65000, Train Loss: 2.0623, Dev Loss: 3.9477\n",
      "Iteration 66000, Train Loss: 1.7207, Dev Loss: 4.0755\n",
      "Iteration 67000, Train Loss: 1.6226, Dev Loss: 3.9306\n",
      "Iteration 68000, Train Loss: 1.4515, Dev Loss: 3.7926\n",
      "Iteration 69000, Train Loss: 1.3447, Dev Loss: 3.9910\n",
      "Iteration 70000, Train Loss: 1.4887, Dev Loss: 3.9761\n",
      "Iteration 71000, Train Loss: 1.7739, Dev Loss: 3.9746\n",
      "Iteration 72000, Train Loss: 1.7932, Dev Loss: 4.0323\n",
      "Iteration 73000, Train Loss: 1.9474, Dev Loss: 4.1597\n",
      "Iteration 74000, Train Loss: 1.5665, Dev Loss: 4.0333\n",
      "Iteration 75000, Train Loss: 1.7930, Dev Loss: 4.0056\n",
      "Iteration 76000, Train Loss: 1.4064, Dev Loss: 4.0498\n",
      "Iteration 77000, Train Loss: 1.5704, Dev Loss: 4.1779\n",
      "Iteration 78000, Train Loss: 1.7037, Dev Loss: 4.1043\n",
      "Iteration 79000, Train Loss: 1.8231, Dev Loss: 4.0553\n",
      "Iteration 80000, Train Loss: 1.5820, Dev Loss: 4.3496\n",
      "Iteration 81000, Train Loss: 1.4453, Dev Loss: 4.2478\n",
      "Iteration 82000, Train Loss: 1.8720, Dev Loss: 4.1163\n",
      "Iteration 83000, Train Loss: 1.5433, Dev Loss: 4.2728\n",
      "Iteration 84000, Train Loss: 1.6074, Dev Loss: 4.3159\n",
      "Iteration 85000, Train Loss: 1.4255, Dev Loss: 4.0960\n",
      "Iteration 86000, Train Loss: 1.4699, Dev Loss: 4.2634\n",
      "Iteration 87000, Train Loss: 2.1715, Dev Loss: 4.4195\n",
      "Iteration 88000, Train Loss: 1.5686, Dev Loss: 4.3902\n",
      "Iteration 89000, Train Loss: 1.4996, Dev Loss: 4.2434\n",
      "Iteration 90000, Train Loss: 1.5377, Dev Loss: 4.3546\n",
      "Iteration 91000, Train Loss: 1.5238, Dev Loss: 4.3746\n",
      "Iteration 92000, Train Loss: 1.5965, Dev Loss: 4.3641\n",
      "Iteration 93000, Train Loss: 1.6632, Dev Loss: 4.3923\n",
      "Iteration 94000, Train Loss: 2.1803, Dev Loss: 4.1560\n",
      "Iteration 95000, Train Loss: 1.7427, Dev Loss: 4.3062\n",
      "Iteration 96000, Train Loss: 1.7175, Dev Loss: 4.3646\n",
      "Iteration 97000, Train Loss: 1.7535, Dev Loss: 4.2875\n",
      "Iteration 98000, Train Loss: 1.8348, Dev Loss: 4.2409\n",
      "Iteration 99000, Train Loss: 1.5095, Dev Loss: 4.4364\n",
      "Iteration 100000, Train Loss: 1.2982, Dev Loss: 4.4133\n",
      "Final Dev Loss: 4.4133\n"
     ]
    }
   ],
   "source": [
    "# Гиперпараметры\n",
    "num_iterations = 100000\n",
    "learning_rate = 0.01\n",
    "batch_size = 32\n",
    "\n",
    "def evaluate(model, X, Y):\n",
    "    model.eval()\n",
    "    with torch.no_grad():\n",
    "        outputs = model(X)\n",
    "        loss = criterion(outputs, Y)\n",
    "    return loss.item()\n",
    "\n",
    "# Функция для получения случайного батча\n",
    "def get_random_batch(X, Y, batch_size):\n",
    "    indices = random.sample(range(len(X)), batch_size)\n",
    "    return X[indices], Y[indices]\n",
    "\n",
    "criterion = nn.CrossEntropyLoss()\n",
    "optimizer = torch.optim.Adam(model.parameters(), lr=learning_rate)\n",
    "\n",
    "for iteration in range(num_iterations):\n",
    "    model.train()\n",
    "    total_loss = 0\n",
    "    # Получаем случайный батч\n",
    "    batch_X, batch_Y = get_random_batch(Xtr, Ytr, batch_size)\n",
    "    \n",
    "    optimizer.zero_grad()\n",
    "    outputs = model(batch_X)\n",
    "    loss = criterion(outputs, batch_Y)\n",
    "    loss.backward()\n",
    "    optimizer.step()\n",
    "    total_loss += loss.item()\n",
    "\n",
    "    \n",
    "    if (iteration + 1) % 1000 == 0:\n",
    "        dev_loss = evaluate(model, Xdev, Ydev)\n",
    "        print(f\"Iteration {iteration+1}, Train Loss: {loss.item():.4f}, Dev Loss: {dev_loss:.4f}\")\n",
    "\n",
    "# Финальная оценка\n",
    "final_dev_loss = evaluate(model, Xdev, Ydev)\n",
    "print(f\"Final Dev Loss: {final_dev_loss:.4f}\")"
   ]
  },
  {
   "cell_type": "code",
   "execution_count": 37,
   "id": "9c821921-21cc-4f4e-a841-799f1e071490",
   "metadata": {},
   "outputs": [],
   "source": [
    "def generate(model, max_length=100, temperature=1.0):\n",
    "    model.eval()\n",
    "    with torch.no_grad():\n",
    "        x = torch.zeros(1, model.n_tokens, dtype=torch.long)\n",
    "        generated = []\n",
    "        for _ in range(max_length):\n",
    "            logits = model(x)\n",
    "            probs = F.softmax(logits / temperature, dim=1)\n",
    "            next_token = torch.multinomial(probs, 1).item()\n",
    "            \n",
    "            if next_token == 0:  # Assuming 0 is the end token\n",
    "                break\n",
    "            \n",
    "            generated.append(next_token)\n",
    "            x = torch.cat([x[:, 1:], torch.tensor([[next_token]])], dim=1)\n",
    "\n",
    "    return \"\".join(untokenize(l) for l in generated)"
   ]
  },
  {
   "cell_type": "code",
   "execution_count": 38,
   "id": "f5271871-ec1e-48e3-b584-0707f9c9263f",
   "metadata": {},
   "outputs": [
    {
     "name": "stdout",
     "output_type": "stream",
     "text": [
      "альфетра\n",
      "авидольринонида\n",
      "фомния\n",
      "исианаманитифпамрелия\n",
      "гуоргинит\n",
      "жозтопелия\n",
      "феон\n",
      "парий\n",
      "диодеттасисатта\n",
      "гьлона\n"
     ]
    }
   ],
   "source": [
    "for _ in range(10):\n",
    "    print(generate(model, temperature=1))"
   ]
  },
  {
   "cell_type": "markdown",
   "id": "ac7639ce-a0b8-4d15-8cd4-38b6ab8d0fd2",
   "metadata": {},
   "source": [
    "## Нарисуем карту embeddings"
   ]
  },
  {
   "cell_type": "code",
   "execution_count": 43,
   "id": "ebe9b33f-9cee-4ee6-a989-9b12eb26e743",
   "metadata": {},
   "outputs": [
    {
     "data": {
      "image/png": "[encoded data removed]",
      "text/plain": [
       "<Figure size 800x800 with 1 Axes>"
      ]
     },
     "metadata": {},
     "output_type": "display_data"
    }
   ],
   "source": [
    "# visualize dimensions 0 and 1 of the embedding matrix C for all characters\n",
    "plt.figure(figsize=(8,8))\n",
    "plt.scatter(C[:,0].data, C[:,1].data, s=200)\n",
    "for i in range(C.shape[0]):\n",
    "    plt.text(C[i,0].item(), C[i,1].item(), untokenize(i), ha=\"center\", va=\"center\", color='white')\n",
    "plt.grid('minor')"
   ]
  },
  {
   "cell_type": "code",
   "execution_count": 50,
   "id": "413f1b61-0dbc-4843-a976-dbbd0a6543c1",
   "metadata": {},
   "outputs": [],
   "source": [
    "C2 = model.embedding.weight.detach().numpy()"
   ]
  },
  {
   "cell_type": "code",
   "execution_count": 51,
   "id": "c460df96-7ab8-4bbe-a63e-cafc3f1ac2b9",
   "metadata": {},
   "outputs": [
    {
     "data": {
      "image/png": "[encoded data removed]",
      "text/plain": [
       "<Figure size 800x800 with 1 Axes>"
      ]
     },
     "metadata": {},
     "output_type": "display_data"
    }
   ],
   "source": [
    "# visualize dimensions 0 and 1 of the embedding matrix C for all characters\n",
    "plt.figure(figsize=(8,8))\n",
    "plt.scatter(C2[:,0].data, C2[:,1].data, s=200)\n",
    "for i in range(C2.shape[0]):\n",
    "    plt.text(C2[i,0].item(), C2[i,1].item(), untokenize(i), ha=\"center\", va=\"center\", color='white')\n",
    "plt.grid('minor')"
   ]
  },
  {
   "cell_type": "markdown",
   "id": "9878e34a-73aa-4103-9def-b72cf095b5db",
   "metadata": {},
   "source": [
    "### Поиск гиперпараметров"
   ]
  },
  {
   "cell_type": "code",
   "execution_count": 41,
   "id": "7a403984-4e73-4bae-bd11-d59b4deb06b1",
   "metadata": {},
   "outputs": [],
   "source": [
    "from torch.utils.data import TensorDataset, DataLoader\n",
    "import itertools"
   ]
  },
  {
   "cell_type": "code",
   "execution_count": 47,
   "id": "7bb2d7d9-0ed4-4d95-ac49-1af3211db7b2",
   "metadata": {},
   "outputs": [],
   "source": [
    "def train_model(model, train_loader, criterion, optimizer, epochs=5):\n",
    "    model.train()\n",
    "    for epoch in range(epochs):\n",
    "        total_loss = 0\n",
    "        for inputs, targets in train_loader:\n",
    "            optimizer.zero_grad()\n",
    "            outputs = model(inputs)\n",
    "            loss = criterion(outputs, targets)\n",
    "            loss.backward()\n",
    "            optimizer.step()\n",
    "            total_loss += loss.item()\n",
    "    return total_loss / len(train_loader)\n",
    "\n",
    "def hyperparameter_search(param_grid, vocab_size, n_tokens, n_samples, batch_size, epochs):\n",
    "    train_dataset = TensorDataset(Xtr, Ytr)\n",
    "    train_loader = DataLoader(train_dataset, batch_size=batch_size, shuffle=True)\n",
    "\n",
    "    best_loss = float('inf')\n",
    "    best_params = None\n",
    "\n",
    "    for params in itertools.product(*param_grid.values()):\n",
    "        current_params = dict(zip(param_grid.keys(), params))\n",
    "        \n",
    "        model = LanguageModel(vocab_size, **current_params)\n",
    "        criterion = torch.nn.CrossEntropyLoss()\n",
    "        optimizer = torch.optim.Adam(model.parameters())\n",
    "\n",
    "        avg_loss = train_model(model, train_loader, criterion, optimizer, epochs)\n",
    "        avg_loss = evaluate(model, Xdev, Ydev)\n",
    "\n",
    "        if avg_loss < best_loss:\n",
    "            best_loss = avg_loss\n",
    "            best_params = current_params\n",
    "\n",
    "        print(f\"Parameters: {current_params}, Loss: {avg_loss}\")\n",
    "\n",
    "    return best_params, best_loss"
   ]
  },
  {
   "cell_type": "code",
   "execution_count": 49,
   "id": "d547f29d-ba36-4ed3-82dd-b8af8fe2323e",
   "metadata": {},
   "outputs": [
    {
     "name": "stdout",
     "output_type": "stream",
     "text": [
      "Parameters: {'emb_d': 4, 'inner_d': 100}, Loss: 2.404935836791992\n",
      "Parameters: {'emb_d': 4, 'inner_d': 150}, Loss: 2.4564366340637207\n",
      "Parameters: {'emb_d': 4, 'inner_d': 200}, Loss: 2.372823715209961\n",
      "Parameters: {'emb_d': 4, 'inner_d': 250}, Loss: 2.367194890975952\n",
      "Parameters: {'emb_d': 8, 'inner_d': 100}, Loss: 2.3527512550354004\n",
      "Parameters: {'emb_d': 8, 'inner_d': 150}, Loss: 2.324859380722046\n",
      "Parameters: {'emb_d': 8, 'inner_d': 200}, Loss: 2.326263189315796\n",
      "Parameters: {'emb_d': 8, 'inner_d': 250}, Loss: 2.310490608215332\n",
      "Parameters: {'emb_d': 10, 'inner_d': 100}, Loss: 2.332172155380249\n",
      "Parameters: {'emb_d': 10, 'inner_d': 150}, Loss: 2.304330825805664\n",
      "Parameters: {'emb_d': 10, 'inner_d': 200}, Loss: 2.302462339401245\n",
      "Parameters: {'emb_d': 10, 'inner_d': 250}, Loss: 2.2986950874328613\n",
      "Parameters: {'emb_d': 12, 'inner_d': 100}, Loss: 2.3037734031677246\n",
      "Parameters: {'emb_d': 12, 'inner_d': 150}, Loss: 2.317249059677124\n",
      "Parameters: {'emb_d': 12, 'inner_d': 200}, Loss: 2.274221658706665\n",
      "Parameters: {'emb_d': 12, 'inner_d': 250}, Loss: 2.278571367263794\n",
      "Best parameters: {'emb_d': 12, 'inner_d': 200}\n",
      "Best loss: 2.274221658706665\n"
     ]
    }
   ],
   "source": [
    "# Определение диапазонов гиперпараметров\n",
    "param_grid = {\n",
    "    'emb_d': [4, 8, 10, 12],\n",
    "    'inner_d': [100, 150, 200, 250]\n",
    "}\n",
    "\n",
    "# Настройка эксперимента\n",
    "vocab_size = 1000\n",
    "n_samples = 1000\n",
    "batch_size = 32\n",
    "epochs = 5\n",
    "\n",
    "best_params, best_loss = hyperparameter_search(param_grid, vocab_size, 3, n_samples, batch_size, epochs)\n",
    "\n",
    "print(f\"Best parameters: {best_params}\")\n",
    "print(f\"Best loss: {best_loss}\")"
   ]
  },
  {
   "cell_type": "code",
   "execution_count": null,
   "id": "d2e92868-fa5e-43b1-9ebb-c44f061af3fe",
   "metadata": {},
   "outputs": [],
   "source": []
  },
  {
   "cell_type": "code",
   "execution_count": 50,
   "id": "9197671f-28ad-4584-b312-1243f79d9f91",
   "metadata": {},
   "outputs": [],
   "source": [
    "model = LanguageModel(vocab_size, emb_d=12, inner_d=200)"
   ]
  },
  {
   "cell_type": "code",
   "execution_count": 51,
   "id": "a4038328-b44d-4a7c-aab1-10887018cf3d",
   "metadata": {},
   "outputs": [
    {
     "name": "stdout",
     "output_type": "stream",
     "text": [
      "Iteration 1000, Train Loss: 2.2074, Dev Loss: 2.3803\n",
      "Iteration 2000, Train Loss: 1.8488, Dev Loss: 2.3931\n",
      "Iteration 3000, Train Loss: 1.3999, Dev Loss: 2.4950\n",
      "Iteration 4000, Train Loss: 2.1928, Dev Loss: 2.5688\n",
      "Iteration 5000, Train Loss: 1.5554, Dev Loss: 2.6794\n",
      "Iteration 6000, Train Loss: 1.6433, Dev Loss: 2.6832\n",
      "Iteration 7000, Train Loss: 2.1101, Dev Loss: 2.7721\n",
      "Iteration 8000, Train Loss: 1.3934, Dev Loss: 2.7550\n",
      "Iteration 9000, Train Loss: 1.1869, Dev Loss: 2.9030\n",
      "Iteration 10000, Train Loss: 1.7279, Dev Loss: 2.9879\n",
      "Iteration 11000, Train Loss: 1.6725, Dev Loss: 3.0113\n",
      "Iteration 12000, Train Loss: 0.9819, Dev Loss: 3.1596\n",
      "Iteration 13000, Train Loss: 1.7018, Dev Loss: 3.1031\n",
      "Iteration 14000, Train Loss: 1.5931, Dev Loss: 3.2520\n",
      "Iteration 15000, Train Loss: 2.0296, Dev Loss: 3.3354\n",
      "Iteration 16000, Train Loss: 1.5111, Dev Loss: 3.3158\n",
      "Iteration 17000, Train Loss: 1.5013, Dev Loss: 3.3546\n",
      "Iteration 18000, Train Loss: 1.6581, Dev Loss: 3.3676\n",
      "Iteration 19000, Train Loss: 1.5407, Dev Loss: 3.4389\n",
      "Iteration 20000, Train Loss: 1.7202, Dev Loss: 3.5046\n",
      "Iteration 21000, Train Loss: 1.5546, Dev Loss: 3.6086\n",
      "Iteration 22000, Train Loss: 1.5080, Dev Loss: 3.5314\n",
      "Iteration 23000, Train Loss: 1.3306, Dev Loss: 3.8941\n",
      "Iteration 24000, Train Loss: 1.5926, Dev Loss: 3.7596\n",
      "Iteration 25000, Train Loss: 1.4797, Dev Loss: 3.6420\n",
      "Iteration 26000, Train Loss: 1.4834, Dev Loss: 3.7042\n",
      "Iteration 27000, Train Loss: 1.3271, Dev Loss: 3.8206\n",
      "Iteration 28000, Train Loss: 1.8058, Dev Loss: 3.8117\n",
      "Iteration 29000, Train Loss: 1.5154, Dev Loss: 4.1507\n",
      "Iteration 30000, Train Loss: 1.5173, Dev Loss: 4.0316\n",
      "Iteration 31000, Train Loss: 1.7009, Dev Loss: 3.9809\n",
      "Iteration 32000, Train Loss: 1.5989, Dev Loss: 4.1923\n",
      "Iteration 33000, Train Loss: 1.9002, Dev Loss: 4.1959\n",
      "Iteration 34000, Train Loss: 1.9113, Dev Loss: 4.2045\n",
      "Iteration 35000, Train Loss: 1.6594, Dev Loss: 4.2460\n",
      "Iteration 36000, Train Loss: 1.6428, Dev Loss: 4.4923\n",
      "Iteration 37000, Train Loss: 1.3608, Dev Loss: 4.4406\n",
      "Iteration 38000, Train Loss: 1.5889, Dev Loss: 4.3912\n",
      "Iteration 39000, Train Loss: 1.5416, Dev Loss: 4.3196\n",
      "Iteration 40000, Train Loss: 1.7246, Dev Loss: 4.6595\n",
      "Iteration 41000, Train Loss: 1.9362, Dev Loss: 4.3595\n",
      "Iteration 42000, Train Loss: 1.8203, Dev Loss: 4.6399\n",
      "Iteration 43000, Train Loss: 1.8035, Dev Loss: 4.5725\n",
      "Iteration 44000, Train Loss: 2.1790, Dev Loss: 4.5329\n",
      "Iteration 45000, Train Loss: 2.0936, Dev Loss: 4.7840\n",
      "Iteration 46000, Train Loss: 1.0865, Dev Loss: 4.6461\n",
      "Iteration 47000, Train Loss: 1.4050, Dev Loss: 4.4130\n",
      "Iteration 48000, Train Loss: 1.2822, Dev Loss: 4.8053\n",
      "Iteration 49000, Train Loss: 1.4014, Dev Loss: 4.6463\n",
      "Iteration 50000, Train Loss: 1.3734, Dev Loss: 4.8733\n",
      "Iteration 51000, Train Loss: 1.7106, Dev Loss: 4.9031\n",
      "Iteration 52000, Train Loss: 1.4235, Dev Loss: 5.0908\n",
      "Iteration 53000, Train Loss: 1.9696, Dev Loss: 4.6750\n",
      "Iteration 54000, Train Loss: 1.6365, Dev Loss: 4.9954\n",
      "Iteration 55000, Train Loss: 1.4050, Dev Loss: 5.1002\n",
      "Iteration 56000, Train Loss: 1.7115, Dev Loss: 5.0208\n",
      "Iteration 57000, Train Loss: 1.7170, Dev Loss: 5.0783\n",
      "Iteration 58000, Train Loss: 1.6809, Dev Loss: 5.0059\n",
      "Iteration 59000, Train Loss: 1.7500, Dev Loss: 5.0823\n",
      "Iteration 60000, Train Loss: 2.0401, Dev Loss: 5.2693\n",
      "Iteration 61000, Train Loss: 1.7362, Dev Loss: 5.0073\n",
      "Iteration 62000, Train Loss: 1.4464, Dev Loss: 4.9736\n",
      "Iteration 63000, Train Loss: 1.7429, Dev Loss: 5.3374\n",
      "Iteration 64000, Train Loss: 1.7192, Dev Loss: 5.2689\n",
      "Iteration 65000, Train Loss: 1.0317, Dev Loss: 5.4926\n",
      "Iteration 66000, Train Loss: 1.2515, Dev Loss: 5.3566\n",
      "Iteration 67000, Train Loss: 1.6238, Dev Loss: 5.5039\n",
      "Iteration 68000, Train Loss: 1.2072, Dev Loss: 5.6644\n",
      "Iteration 69000, Train Loss: 1.3342, Dev Loss: 5.2968\n",
      "Iteration 70000, Train Loss: 1.4943, Dev Loss: 5.4299\n",
      "Iteration 71000, Train Loss: 1.6119, Dev Loss: 5.4787\n",
      "Iteration 72000, Train Loss: 1.4854, Dev Loss: 5.3876\n",
      "Iteration 73000, Train Loss: 1.5742, Dev Loss: 5.8549\n",
      "Iteration 74000, Train Loss: 1.6733, Dev Loss: 5.3455\n",
      "Iteration 75000, Train Loss: 1.7732, Dev Loss: 6.1122\n",
      "Iteration 76000, Train Loss: 1.3713, Dev Loss: 5.5832\n",
      "Iteration 77000, Train Loss: 1.7334, Dev Loss: 5.4406\n",
      "Iteration 78000, Train Loss: 1.6470, Dev Loss: 6.1856\n",
      "Iteration 79000, Train Loss: 1.2168, Dev Loss: 6.0549\n",
      "Iteration 80000, Train Loss: 1.6224, Dev Loss: 6.2255\n",
      "Iteration 81000, Train Loss: 1.8988, Dev Loss: 5.9568\n",
      "Iteration 82000, Train Loss: 1.7032, Dev Loss: 5.8349\n",
      "Iteration 83000, Train Loss: 1.6488, Dev Loss: 5.9379\n",
      "Iteration 84000, Train Loss: 1.2815, Dev Loss: 6.0974\n",
      "Iteration 85000, Train Loss: 1.7654, Dev Loss: 5.6930\n",
      "Iteration 86000, Train Loss: 1.4343, Dev Loss: 6.0151\n",
      "Iteration 87000, Train Loss: 1.8012, Dev Loss: 5.8695\n",
      "Iteration 88000, Train Loss: 1.2640, Dev Loss: 5.9068\n",
      "Iteration 89000, Train Loss: 1.5336, Dev Loss: 5.5863\n",
      "Iteration 90000, Train Loss: 1.7004, Dev Loss: 5.7961\n",
      "Iteration 91000, Train Loss: 1.3230, Dev Loss: 6.6375\n",
      "Iteration 92000, Train Loss: 1.2957, Dev Loss: 6.3096\n",
      "Iteration 93000, Train Loss: 1.3530, Dev Loss: 6.3799\n",
      "Iteration 94000, Train Loss: 1.3806, Dev Loss: 6.5277\n",
      "Iteration 95000, Train Loss: 1.2311, Dev Loss: 6.3939\n",
      "Iteration 96000, Train Loss: 1.9869, Dev Loss: 6.4704\n",
      "Iteration 97000, Train Loss: 1.4992, Dev Loss: 7.0389\n",
      "Iteration 98000, Train Loss: 1.5145, Dev Loss: 6.5745\n",
      "Iteration 99000, Train Loss: 1.4610, Dev Loss: 6.7420\n",
      "Iteration 100000, Train Loss: 1.8308, Dev Loss: 6.3964\n",
      "Final Dev Loss: 6.3964\n"
     ]
    }
   ],
   "source": [
    "\n",
    "# Гиперпараметры\n",
    "num_iterations = 100000\n",
    "learning_rate = 0.01\n",
    "batch_size = 32\n",
    "\n",
    "def evaluate(model, X, Y):\n",
    "    model.eval()\n",
    "    with torch.no_grad():\n",
    "        outputs = model(X)\n",
    "        loss = criterion(outputs, Y)\n",
    "    return loss.item()\n",
    "\n",
    "# Функция для получения случайного батча\n",
    "def get_random_batch(X, Y, batch_size):\n",
    "    indices = random.sample(range(len(X)), batch_size)\n",
    "    return X[indices], Y[indices]\n",
    "\n",
    "criterion = nn.CrossEntropyLoss()\n",
    "optimizer = torch.optim.Adam(model.parameters(), lr=learning_rate)\n",
    "\n",
    "for iteration in range(num_iterations):\n",
    "    model.train()\n",
    "    total_loss = 0\n",
    "    # Получаем случайный батч\n",
    "    batch_X, batch_Y = get_random_batch(Xtr, Ytr, batch_size)\n",
    "    \n",
    "    optimizer.zero_grad()\n",
    "    outputs = model(batch_X)\n",
    "    loss = criterion(outputs, batch_Y)\n",
    "    loss.backward()\n",
    "    optimizer.step()\n",
    "    total_loss += loss.item()\n",
    "\n",
    "    \n",
    "    if (iteration + 1) % 1000 == 0:\n",
    "        dev_loss = evaluate(model, Xdev, Ydev)\n",
    "        print(f\"Iteration {iteration+1}, Train Loss: {loss.item():.4f}, Dev Loss: {dev_loss:.4f}\")\n",
    "\n",
    "# Финальная оценка\n",
    "final_dev_loss = evaluate(model, Xdev, Ydev)\n",
    "print(f\"Final Dev Loss: {final_dev_loss:.4f}\")"
   ]
  }
 ],
 "metadata": {
  "kernelspec": {
   "display_name": "Python 3 (ipykernel)",
   "language": "python",
   "name": "python3"
  },
  "language_info": {
   "codemirror_mode": {
    "name": "ipython",
    "version": 3
   },
   "file_extension": ".py",
   "mimetype": "text/x-python",
   "name": "python",
   "nbconvert_exporter": "python",
   "pygments_lexer": "ipython3",
   "version": "3.12.5"
  }
 },
 "nbformat": 4,
 "nbformat_minor": 5
}
