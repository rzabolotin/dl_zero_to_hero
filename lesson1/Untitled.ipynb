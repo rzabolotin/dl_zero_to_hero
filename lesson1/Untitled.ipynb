{
 "cells": [
  {
   "cell_type": "code",
   "execution_count": 3,
   "id": "eb46f37b",
   "metadata": {},
   "outputs": [],
   "source": [
    "from micrograd.engine import Value"
   ]
  },
  {
   "cell_type": "code",
   "execution_count": 4252,
   "id": "01765f00",
   "metadata": {},
   "outputs": [],
   "source": [
    "a = Value(100)"
   ]
  },
  {
   "cell_type": "code",
   "execution_count": 4253,
   "id": "1fabbc7e",
   "metadata": {},
   "outputs": [],
   "source": [
    "b = (a+10)**2"
   ]
  },
  {
   "cell_type": "code",
   "execution_count": 4254,
   "id": "5ad9a98b",
   "metadata": {},
   "outputs": [
    {
     "data": {
      "text/plain": [
       "Value(data=12100, grad=0)"
      ]
     },
     "execution_count": 4254,
     "metadata": {},
     "output_type": "execute_result"
    }
   ],
   "source": [
    "b"
   ]
  },
  {
   "cell_type": "code",
   "execution_count": 4312,
   "id": "72caee28",
   "metadata": {},
   "outputs": [
    {
     "data": {
      "text/plain": [
       "(Value(data=-9.835948988357316, grad=0.32875954237010774),\n",
       " Value(data=0.026912734420988, grad=0))"
      ]
     },
     "execution_count": 4312,
     "metadata": {},
     "output_type": "execute_result"
    }
   ],
   "source": [
    "for _ in range(100):\n",
    "    a.grad = 0\n",
    "    b.backward()\n",
    "    a.data -= a.grad * 0.001\n",
    "    b = (a+10)**2\n",
    "a, b"
   ]
  },
  {
   "cell_type": "code",
   "execution_count": 4257,
   "id": "9e48744e",
   "metadata": {},
   "outputs": [
    {
     "data": {
      "text/plain": [
       "219.60431665220432"
      ]
     },
     "execution_count": 4257,
     "metadata": {},
     "output_type": "execute_result"
    }
   ],
   "source": [
    "a.grad"
   ]
  },
  {
   "cell_type": "code",
   "execution_count": null,
   "id": "938b8be9",
   "metadata": {},
   "outputs": [],
   "source": []
  },
  {
   "cell_type": "code",
   "execution_count": null,
   "id": "e25d54d5",
   "metadata": {},
   "outputs": [],
   "source": []
  }
 ],
 "metadata": {
  "kernelspec": {
   "display_name": "Python 3 (ipykernel)",
   "language": "python",
   "name": "python3"
  },
  "language_info": {
   "codemirror_mode": {
    "name": "ipython",
    "version": 3
   },
   "file_extension": ".py",
   "mimetype": "text/x-python",
   "name": "python",
   "nbconvert_exporter": "python",
   "pygments_lexer": "ipython3",
   "version": "3.9.7"
  }
 },
 "nbformat": 4,
 "nbformat_minor": 5
}
