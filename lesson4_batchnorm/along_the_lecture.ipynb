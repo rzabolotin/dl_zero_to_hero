{
 "cells": [
  {
   "cell_type": "markdown",
   "id": "6a98f802-ccad-4810-a563-56a88b709d3e",
   "metadata": {},
   "source": [
    "## Начало из прошлой лекции"
   ]
  },
  {
   "cell_type": "code",
   "execution_count": 1,
   "id": "719eb962-5d3e-4181-abbb-f078a7ed00a4",
   "metadata": {},
   "outputs": [],
   "source": [
    "import torch\n",
    "import torch.nn.functional as F\n",
    "import matplotlib.pyplot as plt # for making figures\n",
    "%matplotlib inline"
   ]
  },
  {
   "cell_type": "code",
   "execution_count": 2,
   "id": "ba2959ac-48de-467f-8e74-b191d360fc19",
   "metadata": {},
   "outputs": [],
   "source": [
    "with open(\"../female-names.txt\", \"r\") as f_in:\n",
    "    female_names = f_in.readlines()\n",
    "\n",
    "with open(\"../male-names.txt\", \"r\") as f_in:\n",
    "    male_names = f_in.readlines()\n",
    "\n",
    "female_names = [x.lower().strip() for x in female_names]\n",
    "male_names = [x.lower().strip() for x in male_names]\n",
    "male_names.extend(female_names)"
   ]
  },
  {
   "cell_type": "code",
   "execution_count": 4,
   "id": "0784b432-a786-4a5a-95e5-cb4286b3bf23",
   "metadata": {},
   "outputs": [],
   "source": [
    "names = [x + \".\" for x in male_names]"
   ]
  },
  {
   "cell_type": "code",
   "execution_count": 5,
   "id": "b7dda290-8b2a-4774-9fe5-288e610a588a",
   "metadata": {},
   "outputs": [],
   "source": [
    "vocab = sorted(list(set(\"\".join(names))), key=lambda v: \"\\t\" if v == \".\" else v)\n",
    "vocab_size = len(vocab)"
   ]
  },
  {
   "cell_type": "code",
   "execution_count": 6,
   "id": "f57fe603-d864-46a5-a8fb-1b1d1055ce0c",
   "metadata": {},
   "outputs": [],
   "source": [
    "char_to_index = {char: index for index, char in enumerate(vocab)}\n",
    "index_to_char = {index: char for char, index in char_to_index.items()}\n",
    "\n",
    "def tokenize(char):\n",
    "    return char_to_index.get(char, 0) \n",
    "\n",
    "def untokenize(index):\n",
    "    return index_to_char.get(index, \".\")"
   ]
  },
  {
   "cell_type": "code",
   "execution_count": null,
   "id": "e69cdada-59bf-409c-b2eb-04dc5d976cec",
   "metadata": {},
   "outputs": [],
   "source": []
  }
 ],
 "metadata": {
  "kernelspec": {
   "display_name": "Python 3 (ipykernel)",
   "language": "python",
   "name": "python3"
  },
  "language_info": {
   "codemirror_mode": {
    "name": "ipython",
    "version": 3
   },
   "file_extension": ".py",
   "mimetype": "text/x-python",
   "name": "python",
   "nbconvert_exporter": "python",
   "pygments_lexer": "ipython3",
   "version": "3.12.5"
  }
 },
 "nbformat": 4,
 "nbformat_minor": 5
}
